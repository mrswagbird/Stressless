{
 "cells": [
  {
   "cell_type": "code",
   "execution_count": 6,
   "id": "c7443d04",
   "metadata": {},
   "outputs": [],
   "source": [
    "import pandas as pd\n",
    "import numpy as np"
   ]
  },
  {
   "cell_type": "code",
   "execution_count": 34,
   "id": "0198f884",
   "metadata": {},
   "outputs": [],
   "source": [
    "def process_data(input_file, sleep_file, output_file, drop_columns=None):\n",
    "    # Read input files\n",
    "    if input_file.endswith('.xlsx'):\n",
    "        df = pd.read_excel(input_file)\n",
    "    elif input_file.endswith('.csv'):\n",
    "        df = pd.read_csv(input_file)\n",
    "    else:\n",
    "        raise ValueError(\"Unsupported file format. Please provide data in Excel (.xlsx) or CSV (.csv) format.\")\n",
    "    \n",
    "    # Drop unnecessary columns\n",
    "    if drop_columns is not None:\n",
    "        df.drop(columns=drop_columns, inplace=True)\n",
    "    \n",
    "    # Set 'value' to NaN and 'confidence' to 0 where confidence < 60\n",
    "    df.loc[df['confidence'] < 60, ['value', 'confidence']] = np.nan, 0\n",
    "    \n",
    "    # Fill NaN in 'activity' with 'Chill'\n",
    "    df['activity'].fillna('Chill', inplace=True)\n",
    "    \n",
    "    # Fill NaN in 'person' with the respective values in that column\n",
    "    df['person'].fillna(df['person'].mode().iloc[0], inplace=True)\n",
    "    \n",
    "    # Group by 'unix_time' and aggregate columns\n",
    "    agg_functions = {\n",
    "        'value': 'mean', \n",
    "        'confidence': 'max',\n",
    "        'person': 'first',\n",
    "        'activity': 'first',\n",
    "        'stress_lvl': 'first'\n",
    "    }\n",
    "    df_grouped = df.groupby('unix_time').agg(agg_functions).reset_index()\n",
    "    \n",
    "    # Add a 'datetime' column converted from 'unix_time' and shifted by an hour\n",
    "    df_grouped['datetime'] = pd.to_datetime(df_grouped['unix_time'], unit='s') + pd.Timedelta(hours=1)\n",
    "    \n",
    "    # Read sleep data\n",
    "    if sleep_file.endswith('.xlsx'):\n",
    "        sleep_df = pd.read_excel(sleep_file)\n",
    "    elif sleep_file.endswith('.csv'):\n",
    "        sleep_df = pd.read_csv(sleep_file)\n",
    "    else:\n",
    "        raise ValueError(\"Unsupported file format for sleep data. Please provide data in Excel (.xlsx) or CSV (.csv) format.\")\n",
    "    \n",
    "    # Initialize and fill 'sleep_duration' column\n",
    "    df_grouped['sleep_duration'] = sleep_df.set_index('date')['sleep_duration'].reindex(df_grouped['datetime'].dt.date).fillna(0).tolist()\n",
    "    \n",
    "    # Rearrange columns\n",
    "    df_grouped = df_grouped[['unix_time', 'datetime', 'person', 'value', 'confidence', 'activity', 'sleep_duration', 'stress_lvl']]\n",
    "    \n",
    "    # Write the processed DataFrame to a new Excel file\n",
    "    df_grouped.to_excel(output_file, index=False)"
   ]
  },
  {
   "cell_type": "code",
   "execution_count": 35,
   "id": "dcfa21bf",
   "metadata": {},
   "outputs": [],
   "source": [
    "process_data('raw_khang.xlsx', 'sleep_data_khang.xlsx', 'preprocessed_khang.xlsx', drop_columns=['name', 'date'])\n",
    "process_data('raw_anh.xlsx', 'sleep_data_anh.xlsx', 'preprocessed_anh.xlsx', drop_columns=['name', 'date'])\n",
    "process_data('raw_zahra.xlsx', 'sleep_data_zahra.xlsx', 'preprocessed_zahra.xlsx', drop_columns=['name', 'date'])"
   ]
  },
  {
   "cell_type": "code",
   "execution_count": null,
   "id": "5b234b48",
   "metadata": {},
   "outputs": [],
   "source": []
  }
 ],
 "metadata": {
  "kernelspec": {
   "display_name": "Python 3 (ipykernel)",
   "language": "python",
   "name": "python3"
  },
  "language_info": {
   "codemirror_mode": {
    "name": "ipython",
    "version": 3
   },
   "file_extension": ".py",
   "mimetype": "text/x-python",
   "name": "python",
   "nbconvert_exporter": "python",
   "pygments_lexer": "ipython3",
   "version": "3.9.13"
  }
 },
 "nbformat": 4,
 "nbformat_minor": 5
}
