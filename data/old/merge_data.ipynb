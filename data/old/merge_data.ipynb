{
 "cells": [
  {
   "cell_type": "code",
   "execution_count": 2,
   "id": "initial_id",
   "metadata": {
    "collapsed": true,
    "ExecuteTime": {
     "end_time": "2024-02-26T14:21:26.262319Z",
     "start_time": "2024-02-26T14:20:44.702778Z"
    }
   },
   "outputs": [
    {
     "data": {
      "text/plain": "    unix_time  value  confidence person activity  stress_lvl\n0  1706035129  200.0        70.0    Anh    Chill    0.000000\n1  1706035134  111.0       100.0    Anh    Chill    0.000494\n2  1706035140   51.0       100.0    Anh    Chill    0.000989\n3  1706035145   50.2         0.0    Anh    Chill    0.001483\n4  1706035150   49.4         0.0    Anh    Chill    0.001978",
      "text/html": "<div>\n<style scoped>\n    .dataframe tbody tr th:only-of-type {\n        vertical-align: middle;\n    }\n\n    .dataframe tbody tr th {\n        vertical-align: top;\n    }\n\n    .dataframe thead th {\n        text-align: right;\n    }\n</style>\n<table border=\"1\" class=\"dataframe\">\n  <thead>\n    <tr style=\"text-align: right;\">\n      <th></th>\n      <th>unix_time</th>\n      <th>value</th>\n      <th>confidence</th>\n      <th>person</th>\n      <th>activity</th>\n      <th>stress_lvl</th>\n    </tr>\n  </thead>\n  <tbody>\n    <tr>\n      <th>0</th>\n      <td>1706035129</td>\n      <td>200.0</td>\n      <td>70.0</td>\n      <td>Anh</td>\n      <td>Chill</td>\n      <td>0.000000</td>\n    </tr>\n    <tr>\n      <th>1</th>\n      <td>1706035134</td>\n      <td>111.0</td>\n      <td>100.0</td>\n      <td>Anh</td>\n      <td>Chill</td>\n      <td>0.000494</td>\n    </tr>\n    <tr>\n      <th>2</th>\n      <td>1706035140</td>\n      <td>51.0</td>\n      <td>100.0</td>\n      <td>Anh</td>\n      <td>Chill</td>\n      <td>0.000989</td>\n    </tr>\n    <tr>\n      <th>3</th>\n      <td>1706035145</td>\n      <td>50.2</td>\n      <td>0.0</td>\n      <td>Anh</td>\n      <td>Chill</td>\n      <td>0.001483</td>\n    </tr>\n    <tr>\n      <th>4</th>\n      <td>1706035150</td>\n      <td>49.4</td>\n      <td>0.0</td>\n      <td>Anh</td>\n      <td>Chill</td>\n      <td>0.001978</td>\n    </tr>\n  </tbody>\n</table>\n</div>"
     },
     "execution_count": 2,
     "metadata": {},
     "output_type": "execute_result"
    }
   ],
   "source": [
    "import pandas as pd\n",
    "\n",
    "df_anh = pd.read_excel('output_anh.xlsx')\n",
    "df_khang = pd.read_excel('output_khang.xlsx')\n",
    "\n",
    "data = pd.concat([df_anh, df_khang])\n",
    "\n",
    "data.head()"
   ]
  },
  {
   "cell_type": "code",
   "execution_count": 3,
   "outputs": [
    {
     "name": "stdout",
     "output_type": "stream",
     "text": [
      "         unix_time  value  confidence person activity  stress_lvl\n",
      "0       1706035129  200.0        70.0    Anh    Chill    0.000000\n",
      "1       1706035134  111.0       100.0    Anh    Chill    0.000494\n",
      "2       1706035140   51.0       100.0    Anh    Chill    0.000989\n",
      "3       1706035145   50.2         0.0    Anh    Chill    0.001483\n",
      "4       1706035150   49.4         0.0    Anh    Chill    0.001978\n",
      "...            ...    ...         ...    ...      ...         ...\n",
      "261410  1707581756  101.0         0.0  Khang    Chill    0.000000\n",
      "261411  1707581757  101.0         0.0  Khang    Chill    0.000000\n",
      "261412  1707581758  101.0         0.0  Khang    Chill    0.000000\n",
      "261413  1707581759  101.0         0.0  Khang    Chill    0.000000\n",
      "261414  1707581760  101.0         0.0  Khang    Chill    0.000000\n",
      "\n",
      "[587622 rows x 6 columns]\n"
     ]
    }
   ],
   "source": [
    "print(data)"
   ],
   "metadata": {
    "collapsed": false,
    "ExecuteTime": {
     "end_time": "2024-02-26T14:21:39.630656Z",
     "start_time": "2024-02-26T14:21:39.619209Z"
    }
   },
   "id": "af57f9993ffee2ee"
  },
  {
   "cell_type": "code",
   "execution_count": 4,
   "outputs": [],
   "source": [
    "data.drop(columns=['confidence'], inplace=True)"
   ],
   "metadata": {
    "collapsed": false,
    "ExecuteTime": {
     "end_time": "2024-02-26T14:27:55.164969Z",
     "start_time": "2024-02-26T14:27:52.649298Z"
    }
   },
   "id": "9bb16141ca01dafe"
  },
  {
   "cell_type": "code",
   "execution_count": 7,
   "outputs": [],
   "source": [
    "data.to_csv('data.csv', index=False)"
   ],
   "metadata": {
    "collapsed": false,
    "ExecuteTime": {
     "end_time": "2024-02-26T14:31:39.649930Z",
     "start_time": "2024-02-26T14:31:37.511746Z"
    }
   },
   "id": "2404424951c4159a"
  },
  {
   "cell_type": "code",
   "execution_count": null,
   "outputs": [],
   "source": [],
   "metadata": {
    "collapsed": false
   },
   "id": "4ea3c75ad1981a4e"
  }
 ],
 "metadata": {
  "kernelspec": {
   "display_name": "Python 3",
   "language": "python",
   "name": "python3"
  },
  "language_info": {
   "codemirror_mode": {
    "name": "ipython",
    "version": 2
   },
   "file_extension": ".py",
   "mimetype": "text/x-python",
   "name": "python",
   "nbconvert_exporter": "python",
   "pygments_lexer": "ipython2",
   "version": "2.7.6"
  }
 },
 "nbformat": 4,
 "nbformat_minor": 5
}
